{
 "cells": [
  {
   "cell_type": "code",
   "execution_count": null,
   "metadata": {},
   "outputs": [
    {
     "name": "stderr",
     "output_type": "stream",
     "text": [
      "100%|██████████| 122/122 [00:01<00:00, 92.74it/s]\n"
     ]
    }
   ],
   "source": [
    "import os\n",
    "import xmltodict\n",
    "from tqdm import tqdm\n",
    "import cv2\n",
    "\n",
    "# 输入路径\n",
    "# xml_dir = r\"C:\\Users\\wming\\OneDrive\\Desktop\\kaggle\\yolov8\\datasets\\labels\\trains\"\n",
    "# image_dir = r\"C:\\Users\\wming\\OneDrive\\Desktop\\kaggle\\yolov8\\datasets\\images\\trains\"\n",
    "# output_dir = r\"C:\\Users\\wming\\OneDrive\\Desktop\\kaggle\\yolov8\\datasets\\annotations\\trains\"\n",
    "\n",
    "xml_dir = r\"C:\\Users\\wming\\OneDrive\\Desktop\\kaggle\\yolov8\\datasets\\labels\\vals\"\n",
    "image_dir = r\"C:\\Users\\wming\\OneDrive\\Desktop\\kaggle\\yolov8\\datasets\\images\\vals\"\n",
    "output_dir = r\"C:\\Users\\wming\\OneDrive\\Desktop\\kaggle\\yolov8\\datasets\\annotations\\vals\"\n",
    "\n",
    "# 确保输出目录存在\n",
    "os.makedirs(output_dir, exist_ok=True)\n",
    "\n",
    "# 类别映射\n",
    "class_names = {\"with_mask\": 0, \"without_mask\": 1, \"mask_weared_incorrect\" : 2}\n",
    "\n",
    "for xml_file in tqdm(os.listdir(xml_dir)):\n",
    "    if not xml_file.endswith(\".xml\"):\n",
    "        continue \n",
    "\n",
    "    # 解析XML\n",
    "    with open(os.path.join(xml_dir, xml_file), \"r\") as f:\n",
    "        xml_data = xmltodict.parse(f.read())\n",
    "\n",
    "    img_path = os.path.join(image_dir, xml_file.replace(\".xml\", \".png\"))\n",
    "    img = cv2.imread(img_path)\n",
    "    if img is None:\n",
    "        print(f\"警告：无法读取图片 {img_path}，跳过此文件\")\n",
    "        continue\n",
    "    img_h, img_w = img.shape[:2]\n",
    "\n",
    "    txt_lines = []\n",
    "    objects = xml_data[\"annotation\"][\"object\"]\n",
    "    if not isinstance(objects, list):\n",
    "        objects = [objects]\n",
    "\n",
    "    for obj in objects:\n",
    "        class_name = obj[\"name\"]\n",
    "        try:\n",
    "            class_id = class_names[class_name]\n",
    "        except KeyError:\n",
    "            print(f\"错误：未知类别 '{class_name}'，请检查 class_names 映射\")\n",
    "            continue\n",
    "\n",
    "        # 解析边界框\n",
    "        bbox = obj[\"bndbox\"]\n",
    "        x_min = float(bbox[\"xmin\"])\n",
    "        y_min = float(bbox[\"ymin\"])\n",
    "        x_max = float(bbox[\"xmax\"])\n",
    "        y_max = float(bbox[\"ymax\"])\n",
    "\n",
    "        # 计算YOLO格式坐标（归一化）\n",
    "        x_center = (x_min + x_max) / 2 / img_w\n",
    "        y_center = (y_min + y_max) / 2 / img_h\n",
    "        width = (x_max - x_min) / img_w\n",
    "        height = (y_max - y_min) / img_h\n",
    "\n",
    "        # 添加到结果列表（确保数值在[0,1]范围内）\n",
    "        x_center = max(0.0, min(1.0, x_center))\n",
    "        y_center = max(0.0, min(1.0, y_center))\n",
    "        width = max(0.0, min(1.0, width))\n",
    "        height = max(0.0, min(1.0, height))\n",
    "\n",
    "        txt_lines.append(f\"{class_id} {x_center:.6f} {y_center:.6f} {width:.6f} {height:.6f}\")\n",
    "\n",
    "    # 写入TXT文件（整个XML处理完成后）\n",
    "    if txt_lines:\n",
    "        txt_file = xml_file.replace(\".xml\", \".txt\")\n",
    "        with open(os.path.join(output_dir, txt_file), \"w\") as f:\n",
    "            f.write(\"\\n\".join(txt_lines))"
   ]
  },
  {
   "cell_type": "code",
   "execution_count": null,
   "metadata": {},
   "outputs": [],
   "source": []
  }
 ],
 "metadata": {
  "kernelspec": {
   "display_name": "Python 3",
   "language": "python",
   "name": "python3"
  },
  "language_info": {
   "codemirror_mode": {
    "name": "ipython",
    "version": 3
   },
   "file_extension": ".py",
   "mimetype": "text/x-python",
   "name": "python",
   "nbconvert_exporter": "python",
   "pygments_lexer": "ipython3",
   "version": "3.11.9"
  }
 },
 "nbformat": 4,
 "nbformat_minor": 2
}
